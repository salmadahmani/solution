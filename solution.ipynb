{
  "nbformat": 4,
  "nbformat_minor": 0,
  "metadata": {
    "colab": {
      "provenance": []
    },
    "kernelspec": {
      "name": "python3",
      "display_name": "Python 3"
    },
    "language_info": {
      "name": "python"
    }
  },
  "cells": [
    {
      "cell_type": "code",
      "execution_count": 9,
      "metadata": {
        "colab": {
          "base_uri": "https://localhost:8080/"
        },
        "id": "0LjGxBEgalFP",
        "outputId": "4b20f26a-fb1f-476f-fcec-c48b0145c889"
      },
      "outputs": [
        {
          "output_type": "stream",
          "name": "stdout",
          "text": [
            "[12, 13, 13, 12, 14, 13, 10, 14, 13, 13, 11, 13, 14, 11, 12, 11, 11, 11, 10, 11, 14, 11, 14, 11, 10, 14, 10, 13, 11, 13, 12, 10, 13, 14, 11, 11, 13]\n",
            "[0, 0, 6, 0, 2, 0, 2, 1, 6, 2, 5, 7, 9, 0, 1, 9, 7, 0, 9, 9, 1, 6, 1, 6, 2, 0, 2, 9, 3, 1, 3, 9, 9, 0, 3, 4, 9, 5, 6, 4, 2, 3, 8, 2, 3, 2, 7, 0, 3, 3, 4, 7, 1, 1, 0, 7, 7, 8, 0, 3, 5, 1, 5]\n"
          ]
        }
      ],
      "source": [
        "from numpy.core.fromnumeric import size\n",
        "from numpy.random import random\n",
        "import numpy as np\n",
        "value = np.random.randint(0,20) \n",
        "note = np.random.randint(value,size=100)\n",
        "valide = []\n",
        "non_valide =[]\n",
        "for i in (note):\n",
        "  if i >= 10:\n",
        "    valide.append(i)\n",
        "  elif i <= 10:\n",
        "    non_valide.append(i)\n",
        "print(valide)\n",
        "print(non_valide)\n",
        " "
      ]
    }
  ]
}